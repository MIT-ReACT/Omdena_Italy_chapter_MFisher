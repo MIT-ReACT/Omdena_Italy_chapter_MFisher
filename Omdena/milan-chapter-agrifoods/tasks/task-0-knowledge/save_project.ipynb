{
 "cells": [
  {
   "cell_type": "code",
   "execution_count": 13,
   "id": "3182d1dd",
   "metadata": {},
   "outputs": [
    {
     "name": "stdout",
     "output_type": "stream",
     "text": [
      "[NbConvertApp] Converting notebook Italy_cereal_production_2020_2022.ipynb to pdfviahtml\n",
      "[NbConvertApp] Writing 942428 bytes to Italy_cereal_production_2020_2022.pdf\n"
     ]
    }
   ],
   "source": [
    "!jupyter-nbconvert Italy_cereal_production_2020_2022.ipynb --no-input --no-prompt --to pdfviahtml"
   ]
  }
 ],
 "metadata": {
  "kernelspec": {
   "display_name": "Python 3 (ipykernel)",
   "language": "python",
   "name": "python3"
  },
  "language_info": {
   "codemirror_mode": {
    "name": "ipython",
    "version": 3
   },
   "file_extension": ".py",
   "mimetype": "text/x-python",
   "name": "python",
   "nbconvert_exporter": "python",
   "pygments_lexer": "ipython3",
   "version": "3.10.6"
  }
 },
 "nbformat": 4,
 "nbformat_minor": 5
}
